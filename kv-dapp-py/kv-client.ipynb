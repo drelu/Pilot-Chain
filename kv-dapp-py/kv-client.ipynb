{
 "cells": [
  {
   "cell_type": "code",
   "execution_count": 1,
   "metadata": {},
   "outputs": [
    {
     "name": "stderr",
     "output_type": "stream",
     "text": [
      "/home/01131/tg804093/anaconda3/lib/python3.6/site-packages/ipykernel_launcher.py:19: DeprecationWarning: enable_unaudited_features is deprecated in favor of doing nothing at all\n"
     ]
    }
   ],
   "source": [
    "import time\n",
    "import web3\n",
    "from web3 import Web3, HTTPProvider\n",
    "\n",
    "w3 = Web3(HTTPProvider(\"http://129.114.58.xx:8505\"))\n",
    "from web3.middleware import geth_poa_middleware\n",
    "\n",
    "# inject the poa compatibility middleware to the innermost layer\n",
    "w3.middleware_stack.inject(geth_poa_middleware, layer=0)\n",
    "w3.eth.enable_unaudited_features()\n",
    "\n",
    "# set pre-funded account as sender\n",
    "w3.eth.defaultAccount = w3.eth.accounts[0]\n",
    "w3.eth.accounts[0]"
   ]
  },
  {
   "cell_type": "markdown",
   "metadata": {},
   "source": [
    "# Explore Ethereum Chain"
   ]
  },
  {
   "cell_type": "code",
   "execution_count": null,
   "metadata": {},
   "outputs": [],
   "source": [
    "w3.eth.getBlock(1)"
   ]
  },
  {
   "cell_type": "markdown",
   "metadata": {},
   "source": [
    "# Smart Contract Creation and Compilation"
   ]
  },
  {
   "cell_type": "code",
   "execution_count": 34,
   "metadata": {},
   "outputs": [],
   "source": [
    "from solc import compile_source\n",
    "from web3.contract import ConciseContract\n",
    "\n",
    "# Solidity source code\n",
    "contract_source_code = '''\n",
    "pragma solidity ^0.4.0;\n",
    "\n",
    "contract KVstore {\n",
    "\n",
    "  mapping(string=>string) store;\n",
    "\n",
    "  function get(string key) public returns(string) {\n",
    "    return store[key];\n",
    "  }\n",
    "  function set(string key, string value) public {\n",
    "    store[key] = value;\n",
    "  }\n",
    "}\n",
    "'''\n",
    "compiled_sol = compile_source(contract_source_code) # Compiled source code\n",
    "contract_interface = compiled_sol['<stdin>:KVstore']\n"
   ]
  },
  {
   "cell_type": "markdown",
   "metadata": {},
   "source": [
    "# Deploy Contract"
   ]
  },
  {
   "cell_type": "code",
   "execution_count": 37,
   "metadata": {},
   "outputs": [],
   "source": [
    "# Instantiate and deploy contract\n",
    "kv = w3.eth.contract(abi=contract_interface['abi'], \n",
    "                     bytecode=contract_interface['bin'])\n",
    "\n",
    "# Submit the transaction that deploys the contract\n",
    "tx_hash = kv.constructor().transact()\n",
    "\n",
    "# Wait for the transaction to be mined, and get the transaction receipt\n",
    "tx_receipt = w3.eth.waitForTransactionReceipt(tx_hash)"
   ]
  },
  {
   "cell_type": "code",
   "execution_count": 38,
   "metadata": {},
   "outputs": [
    {
     "data": {
      "text/plain": [
       "HexBytes('0x1031ec2a4f90c45598608f331787a711d68bde207939e725f10f670b1f44cf36')"
      ]
     },
     "execution_count": 38,
     "metadata": {},
     "output_type": "execute_result"
    }
   ],
   "source": [
    "tx_hash"
   ]
  },
  {
   "cell_type": "markdown",
   "metadata": {},
   "source": [
    "# Interact with Contract"
   ]
  },
  {
   "cell_type": "code",
   "execution_count": 43,
   "metadata": {},
   "outputs": [],
   "source": [
    "kv = w3.eth.contract(address=tx_receipt.contractAddress,\n",
    "                     abi=contract_interface['abi'])\n",
    "tx_hash=kv.functions.set(\"hello\", \"asfsa\").transact()"
   ]
  },
  {
   "cell_type": "code",
   "execution_count": 44,
   "metadata": {},
   "outputs": [
    {
     "data": {
      "text/plain": [
       "AttributeDict({'blockHash': HexBytes('0xce2575b88187a6635fb43034e4675c13b90df7b8b8bcb0b2ff1ea5a93882d2fe'),\n",
       " 'blockNumber': 1865,\n",
       " 'contractAddress': None,\n",
       " 'cumulativeGasUsed': 44360,\n",
       " 'from': '0x1d87ddafac8337659d173a6b8d2f77652f89b78f',\n",
       " 'gasUsed': 44360,\n",
       " 'logs': [],\n",
       " 'logsBloom': HexBytes('0x00000000000000000000000000000000000000000000000000000000000000000000000000000000000000000000000000000000000000000000000000000000000000000000000000000000000000000000000000000000000000000000000000000000000000000000000000000000000000000000000000000000000000000000000000000000000000000000000000000000000000000000000000000000000000000000000000000000000000000000000000000000000000000000000000000000000000000000000000000000000000000000000000000000000000000000000000000000000000000000000000000000000000000000000000000000'),\n",
       " 'status': 1,\n",
       " 'to': '0x100d752b324929165928b578fae4b7ce7af107de',\n",
       " 'transactionHash': HexBytes('0x16e062e9d40c47b8955f1de533f57f402124839b33c1fee3bdd3e6da0f9ba25b'),\n",
       " 'transactionIndex': 0})"
      ]
     },
     "execution_count": 44,
     "metadata": {},
     "output_type": "execute_result"
    }
   ],
   "source": [
    "w3.eth.waitForTransactionReceipt(tx_hash)"
   ]
  },
  {
   "cell_type": "code",
   "execution_count": 45,
   "metadata": {},
   "outputs": [
    {
     "data": {
      "text/plain": [
       "'asfsa'"
      ]
     },
     "execution_count": 45,
     "metadata": {},
     "output_type": "execute_result"
    }
   ],
   "source": [
    "kv.functions.get(\"hello\").call()"
   ]
  }
 ],
 "metadata": {
  "kernelspec": {
   "display_name": "Python 3",
   "language": "python",
   "name": "python3"
  },
  "language_info": {
   "codemirror_mode": {
    "name": "ipython",
    "version": 3
   },
   "file_extension": ".py",
   "mimetype": "text/x-python",
   "name": "python",
   "nbconvert_exporter": "python",
   "pygments_lexer": "ipython3",
   "version": "3.6.5"
  }
 },
 "nbformat": 4,
 "nbformat_minor": 2
}
