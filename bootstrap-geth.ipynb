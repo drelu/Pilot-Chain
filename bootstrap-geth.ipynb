{
 "cells": [
  {
   "cell_type": "markdown",
   "metadata": {},
   "source": [
    "# Running an Private Ethereum Cluster on HPC"
   ]
  },
  {
   "cell_type": "code",
   "execution_count": 1,
   "metadata": {},
   "outputs": [
    {
     "name": "stdout",
     "output_type": "stream",
     "text": [
      "--2018-08-25 11:05:12--  https://gethstore.blob.core.windows.net/builds/geth-linux-amd64-1.8.14-316fc7ec.tar.gz\n",
      "Resolving gethstore.blob.core.windows.net (gethstore.blob.core.windows.net)... 40.113.27.176\n",
      "Connecting to gethstore.blob.core.windows.net (gethstore.blob.core.windows.net)|40.113.27.176|:443... connected.\n",
      "HTTP request sent, awaiting response... 200 OK\n",
      "Length: 11617405 (11M) [application/octet-stream]\n",
      "Saving to: ‘geth-linux-amd64-1.8.14-316fc7ec.tar.gz’\n",
      "\n",
      "100%[======================================>] 11,617,405  4.97MB/s   in 2.2s   \n",
      "\n",
      "2018-08-25 11:05:16 (4.97 MB/s) - ‘geth-linux-amd64-1.8.14-316fc7ec.tar.gz’ saved [11617405/11617405]\n",
      "\n"
     ]
    }
   ],
   "source": [
    "!wget https://gethstore.blob.core.windows.net/builds/geth-linux-amd64-1.8.14-316fc7ec.tar.gz"
   ]
  },
  {
   "cell_type": "markdown",
   "metadata": {},
   "source": [
    "# Init configuration for Ethereum node\n",
    "\n",
    "Sources: \n",
    "\n",
    "* <https://hackernoon.com/setup-your-own-private-proof-of-authority-ethereum-network-with-geth-9a0a3750cda8>\n",
    "* https://medium.com/@niceoneallround/creating-a-private-ethereum-network-on-a-mac-c417ab971055\n",
    "* https://github.com/ethereum/go-ethereum/wiki/Managing-your-accounts\n"
   ]
  },
  {
   "cell_type": "code",
   "execution_count": 1,
   "metadata": {},
   "outputs": [
    {
     "name": "stdout",
     "output_type": "stream",
     "text": [
      "Geth\n",
      "Version: 1.8.14-stable\n",
      "Git Commit: 316fc7ecfc10d06603f1358c1f4c1020ec36dd2a\n",
      "Architecture: amd64\n",
      "Protocol Versions: [63 62]\n",
      "Network Id: 1\n",
      "Go Version: go1.10.3\n",
      "Operating System: linux\n",
      "GOPATH=\n",
      "GOROOT=/home/travis/.gimme/versions/go1.10.3.linux.amd64\n"
     ]
    }
   ],
   "source": [
    "!geth version"
   ]
  },
  {
   "cell_type": "code",
   "execution_count": 3,
   "metadata": {},
   "outputs": [
    {
     "name": "stdout",
     "output_type": "stream",
     "text": [
      "\u001b[32mINFO \u001b[0m[08-26|03:37:19.880] Maximum peer count                       \u001b[32mETH\u001b[0m=25 \u001b[32mLES\u001b[0m=0 \u001b[32mtotal\u001b[0m=25\n",
      "Address: {dcc69d06fe344e68338e0489ba9892c5376e5f8f}\n"
     ]
    }
   ],
   "source": [
    "!geth --datadir node1/ --password init_password.txt account new"
   ]
  },
  {
   "cell_type": "code",
   "execution_count": 4,
   "metadata": {},
   "outputs": [
    {
     "name": "stdout",
     "output_type": "stream",
     "text": [
      "\u001b[32mINFO \u001b[0m[08-26|03:37:38.213] Maximum peer count                       \u001b[32mETH\u001b[0m=25 \u001b[32mLES\u001b[0m=0 \u001b[32mtotal\u001b[0m=25\n",
      "Address: {1d87ddafac8337659d173a6b8d2f77652f89b78f}\n"
     ]
    }
   ],
   "source": [
    "!geth --datadir node2/ --password init_password.txt account new"
   ]
  },
  {
   "cell_type": "code",
   "execution_count": 6,
   "metadata": {},
   "outputs": [],
   "source": [
    "!cp init_password.txt node1/password.txt\n",
    "!cp init_password.txt node2/password.txt"
   ]
  },
  {
   "cell_type": "markdown",
   "metadata": {},
   "source": [
    "## Run Puppeth to generate configuration\n",
    "\n",
    "Generate file PilotNet.json and initialize Genisis Block for both nodes"
   ]
  },
  {
   "cell_type": "code",
   "execution_count": 1,
   "metadata": {},
   "outputs": [
    {
     "name": "stdout",
     "output_type": "stream",
     "text": [
      "\u001b[32mINFO \u001b[0m[08-26|04:29:36.897] Maximum peer count                       \u001b[32mETH\u001b[0m=25 \u001b[32mLES\u001b[0m=0 \u001b[32mtotal\u001b[0m=25\n",
      "\u001b[32mINFO \u001b[0m[08-26|04:29:36.897] Allocated cache and file handles         \u001b[32mdatabase\u001b[0m=/home/01131/tg804093/notebooks/blockchain/node1/geth/chaindata \u001b[32mcache\u001b[0m=16 \u001b[32mhandles\u001b[0m=16\n",
      "\u001b[32mINFO \u001b[0m[08-26|04:29:36.923] Persisted trie from memory database      \u001b[32mnodes\u001b[0m=355 \u001b[32msize\u001b[0m=51.91kB \u001b[32mtime\u001b[0m=1.080013ms \u001b[32mgcnodes\u001b[0m=0 \u001b[32mgcsize\u001b[0m=0.00B \u001b[32mgctime\u001b[0m=0s \u001b[32mlivenodes\u001b[0m=1 \u001b[32mlivesize\u001b[0m=0.00B\n",
      "\u001b[32mINFO \u001b[0m[08-26|04:29:36.924] Successfully wrote genesis state         \u001b[32mdatabase\u001b[0m=chaindata                                                      \u001b[32mhash\u001b[0m=e2f6bc…952ee5\n",
      "\u001b[32mINFO \u001b[0m[08-26|04:29:36.924] Allocated cache and file handles         \u001b[32mdatabase\u001b[0m=/home/01131/tg804093/notebooks/blockchain/node1/geth/lightchaindata \u001b[32mcache\u001b[0m=16 \u001b[32mhandles\u001b[0m=16\n",
      "\u001b[32mINFO \u001b[0m[08-26|04:29:36.941] Persisted trie from memory database      \u001b[32mnodes\u001b[0m=355 \u001b[32msize\u001b[0m=51.91kB \u001b[32mtime\u001b[0m=1.091658ms \u001b[32mgcnodes\u001b[0m=0 \u001b[32mgcsize\u001b[0m=0.00B \u001b[32mgctime\u001b[0m=0s \u001b[32mlivenodes\u001b[0m=1 \u001b[32mlivesize\u001b[0m=0.00B\n",
      "\u001b[32mINFO \u001b[0m[08-26|04:29:36.942] Successfully wrote genesis state         \u001b[32mdatabase\u001b[0m=lightchaindata                                                      \u001b[32mhash\u001b[0m=e2f6bc…952ee5\n",
      "\u001b[32mINFO \u001b[0m[08-26|04:29:37.153] Maximum peer count                       \u001b[32mETH\u001b[0m=25 \u001b[32mLES\u001b[0m=0 \u001b[32mtotal\u001b[0m=25\n",
      "\u001b[32mINFO \u001b[0m[08-26|04:29:37.154] Allocated cache and file handles         \u001b[32mdatabase\u001b[0m=/home/01131/tg804093/notebooks/blockchain/node2/geth/chaindata \u001b[32mcache\u001b[0m=16 \u001b[32mhandles\u001b[0m=16\n",
      "\u001b[32mINFO \u001b[0m[08-26|04:29:37.173] Persisted trie from memory database      \u001b[32mnodes\u001b[0m=355 \u001b[32msize\u001b[0m=51.91kB \u001b[32mtime\u001b[0m=1.82222ms \u001b[32mgcnodes\u001b[0m=0 \u001b[32mgcsize\u001b[0m=0.00B \u001b[32mgctime\u001b[0m=0s \u001b[32mlivenodes\u001b[0m=1 \u001b[32mlivesize\u001b[0m=0.00B\n",
      "\u001b[32mINFO \u001b[0m[08-26|04:29:37.174] Successfully wrote genesis state         \u001b[32mdatabase\u001b[0m=chaindata                                                      \u001b[32mhash\u001b[0m=e2f6bc…952ee5\n",
      "\u001b[32mINFO \u001b[0m[08-26|04:29:37.174] Allocated cache and file handles         \u001b[32mdatabase\u001b[0m=/home/01131/tg804093/notebooks/blockchain/node2/geth/lightchaindata \u001b[32mcache\u001b[0m=16 \u001b[32mhandles\u001b[0m=16\n",
      "\u001b[32mINFO \u001b[0m[08-26|04:29:37.195] Persisted trie from memory database      \u001b[32mnodes\u001b[0m=355 \u001b[32msize\u001b[0m=51.91kB \u001b[32mtime\u001b[0m=956.98µs  \u001b[32mgcnodes\u001b[0m=0 \u001b[32mgcsize\u001b[0m=0.00B \u001b[32mgctime\u001b[0m=0s \u001b[32mlivenodes\u001b[0m=1 \u001b[32mlivesize\u001b[0m=0.00B\n",
      "\u001b[32mINFO \u001b[0m[08-26|04:29:37.195] Successfully wrote genesis state         \u001b[32mdatabase\u001b[0m=lightchaindata                                                      \u001b[32mhash\u001b[0m=e2f6bc…952ee5\n"
     ]
    }
   ],
   "source": [
    "!geth --datadir node1/ init PilotNet.json\n",
    "!geth --datadir node2/ init PilotNet.json"
   ]
  },
  {
   "cell_type": "markdown",
   "metadata": {},
   "source": [
    "Create static Nodes file and put into data dir of each node:\n",
    "\n",
    "    cat node1/static-nodes.json\n",
    "    [         \"enode://b5e9814fb254d792947ab238d31694be0b79bb627fb22fdf545a29de142cff90d0ff88ea67e7fe5e052c2a7fa6170cfc5c23e5f52a36bfa7e69bcd3075a3fb8e@129.114.58.133:30304?discport=0\",\n",
    "            \"enode://d8505a82f17483aeff5a57517b6295e3879d67d52e72e6f408c741f314dda0e2530e7c3809ef284d5dd2086faf4f545e0b1dbaf0969cd0a82ad143ec5a6f9c82@129.114.58.101:30305?discport=0\"\n",
    "            ]\n",
    "\n",
    "       cat node2/static-nodes.json\n",
    "            [\n",
    "              \"enode://b5e9814fb254d792947ab238d31694be0b79bb627fb22fdf545a29de142cff90d0ff88ea67e7fe5e052c2a7fa6170cfc5c23e5f52a36bfa7e69bcd3075a3fb8e@129.114.58.133:30304?discport=0\",\n",
    "            \"enode://d8505a82f17483aeff5a57517b6295e3879d67d52e72e6f408c741f314dda0e2530e7c3809ef284d5dd2086faf4f545e0b1dbaf0969cd0a82ad143ec5a6f9c82@129.114.58.101:30305?discport=0\"\n",
    "            ]"
   ]
  },
  {
   "cell_type": "code",
   "execution_count": null,
   "metadata": {},
   "outputs": [],
   "source": [
    "# ENODE1 port 30304, rpcport 8504, ipc node1/geth.ipcpatch\n",
    "!geth --datadir node1 \\\n",
    "      --networkid 31269 \\\n",
    "      --port 30304 \\\n",
    "      --nodiscover \\\n",
    "      --rpc \\\n",
    "      --rpcaddr 0.0.0.0 \\\n",
    "      --rpcport 8504 \\\n",
    "      --ipcpath node1/geth.ipc \\\n",
    "      --unlock 0xdcc69d06fe344e68338e0489ba9892c5376e5f8f \\\n",
    "      --password node1/password.txt \\\n",
    "      --mine --minerthreads 1 --gasprice \"10000\" \\\n",
    "      --etherbase 0xdcc69d06fe344e68338e0489ba9892c5376e5f8f \\\n",
    "      --verbosity 3"
   ]
  },
  {
   "cell_type": "code",
   "execution_count": null,
   "metadata": {},
   "outputs": [],
   "source": [
    "# ENODE2 on port 30305, rpcport 8505, ipc node2/geth.ipcpatch\n",
    "!geth --datadir node2 \\\n",
    "      --networkid 31269 \\\n",
    "      --port 30305 \\\n",
    "      --nodiscover \\\n",
    "      --rpc \\\n",
    "      --rpcaddr 0.0.0.0 \\\n",
    "      --rpcport 8505 \\\n",
    "      --ipcpath node2/geth.ipc \\\n",
    "      --unlock 0x1d87ddafac8337659d173a6b8d2f77652f89b78f\n",
    "      --password node2/password.txt \\\n",
    "      --mine --minerthreads 1 --gasprice \"10000\" \\\n",
    "      --etherbase 0x1d87ddafac8337659d173a6b8d2f77652f89b78f \\\n",
    "      --verbosity 3"
   ]
  }
 ],
 "metadata": {
  "kernelspec": {
   "display_name": "Python 3",
   "language": "python",
   "name": "python3"
  },
  "language_info": {
   "codemirror_mode": {
    "name": "ipython",
    "version": 3
   },
   "file_extension": ".py",
   "mimetype": "text/x-python",
   "name": "python",
   "nbconvert_exporter": "python",
   "pygments_lexer": "ipython3",
   "version": "3.6.5"
  }
 },
 "nbformat": 4,
 "nbformat_minor": 2
}
